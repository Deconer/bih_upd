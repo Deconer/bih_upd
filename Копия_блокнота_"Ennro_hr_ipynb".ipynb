{
  "nbformat": 4,
  "nbformat_minor": 0,
  "metadata": {
    "colab": {
      "provenance": [],
      "include_colab_link": true
    },
    "kernelspec": {
      "name": "python3",
      "display_name": "Python 3"
    },
    "accelerator": "TPU"
  },
  "cells": [
    {
      "cell_type": "markdown",
      "metadata": {
        "id": "view-in-github",
        "colab_type": "text"
      },
      "source": [
        "<a href=\"https://colab.research.google.com/github/Deconer/bih_upd/blob/master/%D0%9A%D0%BE%D0%BF%D0%B8%D1%8F_%D0%B1%D0%BB%D0%BE%D0%BA%D0%BD%D0%BE%D1%82%D0%B0_%22Ennro_hr_ipynb%22.ipynb\" target=\"_parent\"><img src=\"https://colab.research.google.com/assets/colab-badge.svg\" alt=\"Open In Colab\"/></a>"
      ]
    },
    {
      "cell_type": "markdown",
      "metadata": {
        "id": "kOD8jjl2mPfR"
      },
      "source": [
        "# НЕЙРОСЕТИ И ТРЕЙДИНГ. ОБУЧЕНИЕ И ТЕСТИРОВАНИЕ НЕЙРОСЕТИ"
      ]
    },
    {
      "cell_type": "markdown",
      "metadata": {
        "id": "A65_W-boLWfm"
      },
      "source": [
        "⚠️️ ***Есть новая [статья](https://habr.com/ru/post/562092/) и [новый CoLab](https://colab.research.google.com/drive/1VSKckyGLA-1SAgGFkoaENJCB6lOgcnBs?usp=sharing) !!!***\n"
      ]
    },
    {
      "cell_type": "markdown",
      "metadata": {
        "id": "hLMn0isr4Q5V"
      },
      "source": [
        "#1. УСТАНОВКА БИБЛИОТЕК"
      ]
    },
    {
      "cell_type": "code",
      "metadata": {
        "id": "3Tw1u87kP0dJ",
        "colab": {
          "base_uri": "https://localhost:8080/"
        },
        "outputId": "c7cabeee-b530-44c9-e117-b9099a028baf"
      },
      "source": [
        "!pip install PrettyTable\n",
        "!pip install matplotlib\n",
        "import tensorflow as tf\n",
        "from tensorflow.keras.models import Sequential\n",
        "from tensorflow.python.keras.layers import Dense, Dropout, Activation\n",
        "from tensorflow.python.keras import utils\n",
        "import numpy as np\n",
        "import matplotlib.pyplot as plt\n",
        "%matplotlib inline\n",
        "import os.path, zipfile, shutil, requests, urllib.request\n",
        "from google.colab import files\n",
        "from IPython.display import clear_output\n",
        "from prettytable import PrettyTable\n",
        "from datetime import datetime\n",
        "\n",
        "\n",
        "def make_model(n, dropout, act):\n",
        "    model = Sequential()\n",
        "    model.add(Dense(n, input_dim=n, activation=act))\n",
        "    model.add(Dropout(dropout))\n",
        "    model.add(Dense(int(n * 0.5), activation=act))\n",
        "    model.add(Dropout(dropout))\n",
        "    model.add(Dense(2, activation=\"softmax\"))\n",
        "    model.compile(loss=\"categorical_crossentropy\", optimizer='adam', metrics=['accuracy'])\n",
        "    return model\n",
        "\n",
        "\n",
        "def get_files():\n",
        "    for file_object in os.listdir('/content'):\n",
        "        file_object_path = os.path.join('/content', file_object)\n",
        "        if os.path.isfile(file_object_path):\n",
        "            os.unlink(file_object_path)\n",
        "        else:\n",
        "            shutil.rmtree(file_object_path)\n",
        "    print(\"⚠️️ Идет загрузка данных...\")\n",
        "    f = requests.get(\"https://torgap.ru/Files.zip\", allow_redirects=True)\n",
        "    open('Files.zip', 'wb').write(f.content)\n",
        "    if os.path.exists(\"Files.zip\"):\n",
        "        clear_output(wait=True)\n",
        "        print(\"✅️ Данные загружены, обрабатываются...\\n\")\n",
        "        with zipfile.ZipFile(\"/content/Files.zip\", \"r\") as zip_ref:\n",
        "            zip_ref.extractall()\n",
        "        os.unlink('/content/Files.zip')\n",
        "        f_list = os.listdir('/content/')\n",
        "        for i, data in enumerate(f_list):\n",
        "            st = data[:-4]\n",
        "            st = st.split(\"_\")\n",
        "            symbol = st[1]\n",
        "            dim = st[2]\n",
        "            timeframe = st[3]\n",
        "            break\n",
        "        clear_output(wait=True)\n",
        "        return symbol, dim, timeframe\n",
        "    else:\n",
        "        print(\"⚠️️ Проблема с загрузкой, что то пошло не так.\")\n",
        "        raise SystemExit\n",
        "\n",
        "\n",
        "def make_data(f_name):\n",
        "    data = np.loadtxt(\"/content/\" + f_name + \"_\" + symbol + \"_\" + dim + \"_\" +\n",
        "                      timeframe + \".txt\", delimiter=\",\", encoding=\"utf-16\")\n",
        "    size = data.shape[1] - 4\n",
        "    qtt = data.shape[0]\n",
        "    x = data[1:qtt, 0:size]\n",
        "    y = data[1:qtt, size:(size + 2)]\n",
        "    cndls = data[1:qtt, size:(size + 4)]\n",
        "    print(\"✅️ \" + f_name + \" данных: \" + str(qtt) + \", \" + f_name + \" предикторов: \" + str(size) + \"\\n\")\n",
        "    if f_name == \"test\" and qtt < 10000: print(\n",
        "        \"⚠️️ Очень мало данных для тестирования!!! Должно быть не меньше 10'000 !!!\")\n",
        "    if f_name == \"train\" and qtt < (size * 2000): print(\n",
        "        \"⚠️️ Очень мало данных для обучения!!! Должно быть не меньше \" + str(size * 2000) +\n",
        "        \"!!! Минимум по 2000 на каждый предиктор.\")\n",
        "    return x, y, size, qtt, cndls\n",
        "\n",
        "\n",
        "def test_result(model, test_arr):\n",
        "    a = np.empty(shape=[qtt_test - 1, 1])\n",
        "    p = model.predict(test_arr)\n",
        "    x = PrettyTable()\n",
        "    best_res = 0\n",
        "    tn = 0\n",
        "    x.field_names = ['Ответ сети', 'Выиграл', 'Проиграл', 'Выиграл (%)', 'Сигналов (%)']\n",
        "    for i, pr in enumerate(p): a[i] = int(round(((pr[0] + tn) - (pr[1] - tn)) * 100, 0))\n",
        "    results = np.hstack([a, cndls_test])\n",
        "    for lim in range(0, 99, 2):\n",
        "        win = lose = 0\n",
        "        for i, d in enumerate(results):\n",
        "            if abs(d[0]) >= lim:\n",
        "                if (d[0] > 0 and d[1] == 1) or (d[0] < 0 and d[1] == 0):\n",
        "                    win += 1\n",
        "                else:\n",
        "                    lose += 1\n",
        "        if win + lose != 0:\n",
        "            res = int((win / (win + lose)) * 100)\n",
        "        else:\n",
        "            res = 0\n",
        "        trades = round(((win + lose) / results.shape[0]) * 100, 1)\n",
        "        if trades < 1: break\n",
        "        # if best_res < res:\n",
        "        best_res = res\n",
        "        best_lim = lim\n",
        "        best_trades = trades\n",
        "        x.add_row([lim, win, lose, res, trades])\n",
        "    if best_res <= n_lim:\n",
        "        clear_output(wait=True)\n",
        "        print(\"⚠️️ Результат <\", n_lim, \". Очень низкое качество обучения.\" +\n",
        "              \"\\nПовторите обучение просто перезапустив этот блок.\")\n",
        "        print(\"Заново загружать данные не нужно.\")\n",
        "    else:\n",
        "        print(x)\n",
        "        print(\"\\n✅️ Последнее значение -\", str(best_res) + \"% правильных ответов.\\n\" +\n",
        "              'Этот результат будет получен если брать ответы с \"уверенность\" больше', best_lim, \"(Ответ сети).\",\n",
        "              \"\\nСигналов будет -\", str(best_trades) +\n",
        "              \"% от общего количества свечей которые подавались на тестирование.\")\n",
        "    return best_lim, best_res, results\n",
        "\n",
        "\n",
        "def plot_res(step=0):\n",
        "    if step == 0: step = qtt_test\n",
        "    if best_res >= n_lim:\n",
        "        t = 1\n",
        "        for j in range(step, qtt_test + 1, step):\n",
        "            u = d = np.empty(shape=[0, 2])\n",
        "            for i, r in enumerate(results[t:j, ::]):\n",
        "                if r[0] >= best_lim:\n",
        "                    u = np.append(u, [[r[3], r[4]]], axis=0)\n",
        "                if r[0] <= -best_lim:\n",
        "                    d = np.append(d, [[r[3], r[4]]], axis=0)\n",
        "            plt.figure(num=None, figsize=(30, 12), dpi=120, facecolor='w', edgecolor='k')\n",
        "            plt.plot(cndls_test[t:j, 2:3], cndls_test[t:j, 3:4], color='lightgray')\n",
        "            plt.plot(u[::, 0:1], u[::, 1:2], \"go\")\n",
        "            plt.plot(d[::, 0:1], d[::, 1:2], \"ro\")\n",
        "            t = j\n",
        "    else:\n",
        "        print(\"⚠️️ Качество обучения слижком низкое, нечего рисовать.\")\n",
        "\n",
        "\n",
        "def fit_model():\n",
        "    model = make_model(size_train, dropout, act)\n",
        "    print(\"Идет обучение...\")\n",
        "    history = model.fit(x_train, y_train, epochs=epoch, validation_split=0.2, batch_size=128, verbose=0)\n",
        "    clear_output(wait=True)\n",
        "    print(\"✅️ Обучение модели завершено\\n\")\n",
        "    return model\n",
        "\n",
        "\n",
        "def get_from_ennro(symbol, tfm, dim, lim):\n",
        "    if symbol != \"BTCUSD\" and symbol != \"EURUSD\":\n",
        "        print(\"\\n⚠️️ Проверка реальным рынком возможна только для BTCUSD или EURUSD.\\n\")\n",
        "        raise SystemExit\n",
        "    tn = 0\n",
        "    r = requests.post(\"https://api.torgap.ru/live.php\", data={'symbol': symbol, 'tf': tfm, 'dim': str(dim)}).text\n",
        "    d = r.split(\"|\")\n",
        "    size = np.fromstring(d[0], sep=\",\").shape[0]\n",
        "    data = np.empty(shape=[1, size])\n",
        "    # print(data)\n",
        "    for dt in d:\n",
        "        m = np.array([np.fromstring(dt, sep=\",\")])\n",
        "        data = np.append(data, m, axis=0)\n",
        "    p = model.predict(data[1:, 0:(size - 2)])\n",
        "    a = np.empty(shape=[p.shape[0], 1])\n",
        "    for i, pr in enumerate(p):\n",
        "        a[i] = int(round(((pr[0] + tn) - (pr[1] - tn)) * 100, 0))\n",
        "    results = np.hstack([a, data[1:, (size - 2):size]])\n",
        "    u = d = np.empty(shape=[0, 2])\n",
        "    for i, r in enumerate(results):\n",
        "        if r[0] >= lim:\n",
        "            u = np.append(u, [[r[1], r[2]]], axis=0)\n",
        "        if r[0] <= -lim:\n",
        "            d = np.append(d, [[r[1], r[2]]], axis=0)\n",
        "    print(\"Отправлен запрос:\", symbol, timeframe, \"dim:\", dim, \"\\n✅️ Получено\", data.shape[0],\n",
        "          \"свечей, последняя свеча\", timeframe, \"открылась в\",\n",
        "          datetime.utcfromtimestamp(int(data[1][size - 2])).strftime('%H:%M %d-%m-%Y'), \"(UTC)\\n\")\n",
        "    if u.shape[0] == 0 and d.shape[0] == 0:\n",
        "        print('⚠️️ Сигналов нет при best_lim =', lim, \". Возможно сейчас маленькая волатильность.\\n\" +\n",
        "              \"Попробуйте заметить best_lim на значение меньшее чем\", lim, \"\\n\")\n",
        "    plt.figure(num=None, figsize=(30, 12), dpi=120, facecolor='w', edgecolor='k')\n",
        "    plt.plot(data[1:, (size - 2):(size - 1)], data[1:, (size - 1):(size - 0)], color='lightgray')\n",
        "    plt.plot(u[::, 0:1], u[::, 1:2], \"go\")\n",
        "    plt.plot(d[::, 0:1], d[::, 1:2], \"ro\")"
      ],
      "execution_count": null,
      "outputs": [
        {
          "output_type": "stream",
          "name": "stdout",
          "text": [
            "Looking in indexes: https://pypi.org/simple, https://us-python.pkg.dev/colab-wheels/public/simple/\n",
            "Requirement already satisfied: PrettyTable in /usr/local/lib/python3.10/dist-packages (0.7.2)\n",
            "Looking in indexes: https://pypi.org/simple, https://us-python.pkg.dev/colab-wheels/public/simple/\n",
            "Requirement already satisfied: matplotlib in /usr/local/lib/python3.10/dist-packages (3.7.1)\n",
            "Requirement already satisfied: contourpy>=1.0.1 in /usr/local/lib/python3.10/dist-packages (from matplotlib) (1.0.7)\n",
            "Requirement already satisfied: fonttools>=4.22.0 in /usr/local/lib/python3.10/dist-packages (from matplotlib) (4.39.3)\n",
            "Requirement already satisfied: numpy>=1.20 in /usr/local/lib/python3.10/dist-packages (from matplotlib) (1.22.4)\n",
            "Requirement already satisfied: packaging>=20.0 in /usr/local/lib/python3.10/dist-packages (from matplotlib) (23.1)\n",
            "Requirement already satisfied: python-dateutil>=2.7 in /usr/local/lib/python3.10/dist-packages (from matplotlib) (2.8.2)\n",
            "Requirement already satisfied: cycler>=0.10 in /usr/local/lib/python3.10/dist-packages (from matplotlib) (0.11.0)\n",
            "Requirement already satisfied: pillow>=6.2.0 in /usr/local/lib/python3.10/dist-packages (from matplotlib) (8.4.0)\n",
            "Requirement already satisfied: kiwisolver>=1.0.1 in /usr/local/lib/python3.10/dist-packages (from matplotlib) (1.4.4)\n",
            "Requirement already satisfied: pyparsing>=2.3.1 in /usr/local/lib/python3.10/dist-packages (from matplotlib) (3.0.9)\n",
            "Requirement already satisfied: six>=1.5 in /usr/local/lib/python3.10/dist-packages (from python-dateutil>=2.7->matplotlib) (1.16.0)\n"
          ]
        }
      ]
    },
    {
      "cell_type": "markdown",
      "metadata": {
        "id": "mq-uQMeV40ty"
      },
      "source": [
        "#2. ЗАГРУЗКА И ПОДГОТОВКА ДАННЫХ ДЛЯ ОБУЧЕНИЯ"
      ]
    },
    {
      "cell_type": "code",
      "metadata": {
        "id": "dFG_bhtmsyFu",
        "colab": {
          "base_uri": "https://localhost:8080/",
          "height": 658
        },
        "outputId": "9a8dd4be-2b98-40f2-8a47-42fb6c7b5161"
      },
      "source": [
        "symbol, dim, timeframe = get_files()\n",
        "x_train, y_train, size_train, qtt_train, cndls_train = make_data(\"train\")\n",
        "x_test, y_test, size_test, qtt_test, cndls_test = make_data(\"test\")"
      ],
      "execution_count": null,
      "outputs": [
        {
          "output_type": "stream",
          "name": "stdout",
          "text": [
            "⚠️️ Идет загрузка данных...\n"
          ]
        },
        {
          "output_type": "error",
          "ename": "ConnectionError",
          "evalue": "ignored",
          "traceback": [
            "\u001b[0;31m---------------------------------------------------------------------------\u001b[0m",
            "\u001b[0;31mgaierror\u001b[0m                                  Traceback (most recent call last)",
            "\u001b[0;32m/usr/local/lib/python3.10/dist-packages/urllib3/connection.py\u001b[0m in \u001b[0;36m_new_conn\u001b[0;34m(self)\u001b[0m\n\u001b[1;32m    173\u001b[0m         \u001b[0;32mtry\u001b[0m\u001b[0;34m:\u001b[0m\u001b[0;34m\u001b[0m\u001b[0;34m\u001b[0m\u001b[0m\n\u001b[0;32m--> 174\u001b[0;31m             conn = connection.create_connection(\n\u001b[0m\u001b[1;32m    175\u001b[0m                 \u001b[0;34m(\u001b[0m\u001b[0mself\u001b[0m\u001b[0;34m.\u001b[0m\u001b[0m_dns_host\u001b[0m\u001b[0;34m,\u001b[0m \u001b[0mself\u001b[0m\u001b[0;34m.\u001b[0m\u001b[0mport\u001b[0m\u001b[0;34m)\u001b[0m\u001b[0;34m,\u001b[0m \u001b[0mself\u001b[0m\u001b[0;34m.\u001b[0m\u001b[0mtimeout\u001b[0m\u001b[0;34m,\u001b[0m \u001b[0;34m**\u001b[0m\u001b[0mextra_kw\u001b[0m\u001b[0;34m\u001b[0m\u001b[0;34m\u001b[0m\u001b[0m\n",
            "\u001b[0;32m/usr/local/lib/python3.10/dist-packages/urllib3/util/connection.py\u001b[0m in \u001b[0;36mcreate_connection\u001b[0;34m(address, timeout, source_address, socket_options)\u001b[0m\n\u001b[1;32m     71\u001b[0m \u001b[0;34m\u001b[0m\u001b[0m\n\u001b[0;32m---> 72\u001b[0;31m     \u001b[0;32mfor\u001b[0m \u001b[0mres\u001b[0m \u001b[0;32min\u001b[0m \u001b[0msocket\u001b[0m\u001b[0;34m.\u001b[0m\u001b[0mgetaddrinfo\u001b[0m\u001b[0;34m(\u001b[0m\u001b[0mhost\u001b[0m\u001b[0;34m,\u001b[0m \u001b[0mport\u001b[0m\u001b[0;34m,\u001b[0m \u001b[0mfamily\u001b[0m\u001b[0;34m,\u001b[0m \u001b[0msocket\u001b[0m\u001b[0;34m.\u001b[0m\u001b[0mSOCK_STREAM\u001b[0m\u001b[0;34m)\u001b[0m\u001b[0;34m:\u001b[0m\u001b[0;34m\u001b[0m\u001b[0;34m\u001b[0m\u001b[0m\n\u001b[0m\u001b[1;32m     73\u001b[0m         \u001b[0maf\u001b[0m\u001b[0;34m,\u001b[0m \u001b[0msocktype\u001b[0m\u001b[0;34m,\u001b[0m \u001b[0mproto\u001b[0m\u001b[0;34m,\u001b[0m \u001b[0mcanonname\u001b[0m\u001b[0;34m,\u001b[0m \u001b[0msa\u001b[0m \u001b[0;34m=\u001b[0m \u001b[0mres\u001b[0m\u001b[0;34m\u001b[0m\u001b[0;34m\u001b[0m\u001b[0m\n",
            "\u001b[0;32m/usr/lib/python3.10/socket.py\u001b[0m in \u001b[0;36mgetaddrinfo\u001b[0;34m(host, port, family, type, proto, flags)\u001b[0m\n\u001b[1;32m    954\u001b[0m     \u001b[0maddrlist\u001b[0m \u001b[0;34m=\u001b[0m \u001b[0;34m[\u001b[0m\u001b[0;34m]\u001b[0m\u001b[0;34m\u001b[0m\u001b[0;34m\u001b[0m\u001b[0m\n\u001b[0;32m--> 955\u001b[0;31m     \u001b[0;32mfor\u001b[0m \u001b[0mres\u001b[0m \u001b[0;32min\u001b[0m \u001b[0m_socket\u001b[0m\u001b[0;34m.\u001b[0m\u001b[0mgetaddrinfo\u001b[0m\u001b[0;34m(\u001b[0m\u001b[0mhost\u001b[0m\u001b[0;34m,\u001b[0m \u001b[0mport\u001b[0m\u001b[0;34m,\u001b[0m \u001b[0mfamily\u001b[0m\u001b[0;34m,\u001b[0m \u001b[0mtype\u001b[0m\u001b[0;34m,\u001b[0m \u001b[0mproto\u001b[0m\u001b[0;34m,\u001b[0m \u001b[0mflags\u001b[0m\u001b[0;34m)\u001b[0m\u001b[0;34m:\u001b[0m\u001b[0;34m\u001b[0m\u001b[0;34m\u001b[0m\u001b[0m\n\u001b[0m\u001b[1;32m    956\u001b[0m         \u001b[0maf\u001b[0m\u001b[0;34m,\u001b[0m \u001b[0msocktype\u001b[0m\u001b[0;34m,\u001b[0m \u001b[0mproto\u001b[0m\u001b[0;34m,\u001b[0m \u001b[0mcanonname\u001b[0m\u001b[0;34m,\u001b[0m \u001b[0msa\u001b[0m \u001b[0;34m=\u001b[0m \u001b[0mres\u001b[0m\u001b[0;34m\u001b[0m\u001b[0;34m\u001b[0m\u001b[0m\n",
            "\u001b[0;31mgaierror\u001b[0m: [Errno -2] Name or service not known",
            "\nDuring handling of the above exception, another exception occurred:\n",
            "\u001b[0;31mNewConnectionError\u001b[0m                        Traceback (most recent call last)",
            "\u001b[0;32m/usr/local/lib/python3.10/dist-packages/urllib3/connectionpool.py\u001b[0m in \u001b[0;36murlopen\u001b[0;34m(self, method, url, body, headers, retries, redirect, assert_same_host, timeout, pool_timeout, release_conn, chunked, body_pos, **response_kw)\u001b[0m\n\u001b[1;32m    702\u001b[0m             \u001b[0;31m# Make the request on the httplib connection object.\u001b[0m\u001b[0;34m\u001b[0m\u001b[0;34m\u001b[0m\u001b[0m\n\u001b[0;32m--> 703\u001b[0;31m             httplib_response = self._make_request(\n\u001b[0m\u001b[1;32m    704\u001b[0m                 \u001b[0mconn\u001b[0m\u001b[0;34m,\u001b[0m\u001b[0;34m\u001b[0m\u001b[0;34m\u001b[0m\u001b[0m\n",
            "\u001b[0;32m/usr/local/lib/python3.10/dist-packages/urllib3/connectionpool.py\u001b[0m in \u001b[0;36m_make_request\u001b[0;34m(self, conn, method, url, timeout, chunked, **httplib_request_kw)\u001b[0m\n\u001b[1;32m    385\u001b[0m         \u001b[0;32mtry\u001b[0m\u001b[0;34m:\u001b[0m\u001b[0;34m\u001b[0m\u001b[0;34m\u001b[0m\u001b[0m\n\u001b[0;32m--> 386\u001b[0;31m             \u001b[0mself\u001b[0m\u001b[0;34m.\u001b[0m\u001b[0m_validate_conn\u001b[0m\u001b[0;34m(\u001b[0m\u001b[0mconn\u001b[0m\u001b[0;34m)\u001b[0m\u001b[0;34m\u001b[0m\u001b[0;34m\u001b[0m\u001b[0m\n\u001b[0m\u001b[1;32m    387\u001b[0m         \u001b[0;32mexcept\u001b[0m \u001b[0;34m(\u001b[0m\u001b[0mSocketTimeout\u001b[0m\u001b[0;34m,\u001b[0m \u001b[0mBaseSSLError\u001b[0m\u001b[0;34m)\u001b[0m \u001b[0;32mas\u001b[0m \u001b[0me\u001b[0m\u001b[0;34m:\u001b[0m\u001b[0;34m\u001b[0m\u001b[0;34m\u001b[0m\u001b[0m\n",
            "\u001b[0;32m/usr/local/lib/python3.10/dist-packages/urllib3/connectionpool.py\u001b[0m in \u001b[0;36m_validate_conn\u001b[0;34m(self, conn)\u001b[0m\n\u001b[1;32m   1041\u001b[0m         \u001b[0;32mif\u001b[0m \u001b[0;32mnot\u001b[0m \u001b[0mgetattr\u001b[0m\u001b[0;34m(\u001b[0m\u001b[0mconn\u001b[0m\u001b[0;34m,\u001b[0m \u001b[0;34m\"sock\"\u001b[0m\u001b[0;34m,\u001b[0m \u001b[0;32mNone\u001b[0m\u001b[0;34m)\u001b[0m\u001b[0;34m:\u001b[0m  \u001b[0;31m# AppEngine might not have  `.sock`\u001b[0m\u001b[0;34m\u001b[0m\u001b[0;34m\u001b[0m\u001b[0m\n\u001b[0;32m-> 1042\u001b[0;31m             \u001b[0mconn\u001b[0m\u001b[0;34m.\u001b[0m\u001b[0mconnect\u001b[0m\u001b[0;34m(\u001b[0m\u001b[0;34m)\u001b[0m\u001b[0;34m\u001b[0m\u001b[0;34m\u001b[0m\u001b[0m\n\u001b[0m\u001b[1;32m   1043\u001b[0m \u001b[0;34m\u001b[0m\u001b[0m\n",
            "\u001b[0;32m/usr/local/lib/python3.10/dist-packages/urllib3/connection.py\u001b[0m in \u001b[0;36mconnect\u001b[0;34m(self)\u001b[0m\n\u001b[1;32m    362\u001b[0m         \u001b[0;31m# Add certificate verification\u001b[0m\u001b[0;34m\u001b[0m\u001b[0;34m\u001b[0m\u001b[0m\n\u001b[0;32m--> 363\u001b[0;31m         \u001b[0mself\u001b[0m\u001b[0;34m.\u001b[0m\u001b[0msock\u001b[0m \u001b[0;34m=\u001b[0m \u001b[0mconn\u001b[0m \u001b[0;34m=\u001b[0m \u001b[0mself\u001b[0m\u001b[0;34m.\u001b[0m\u001b[0m_new_conn\u001b[0m\u001b[0;34m(\u001b[0m\u001b[0;34m)\u001b[0m\u001b[0;34m\u001b[0m\u001b[0;34m\u001b[0m\u001b[0m\n\u001b[0m\u001b[1;32m    364\u001b[0m         \u001b[0mhostname\u001b[0m \u001b[0;34m=\u001b[0m \u001b[0mself\u001b[0m\u001b[0;34m.\u001b[0m\u001b[0mhost\u001b[0m\u001b[0;34m\u001b[0m\u001b[0;34m\u001b[0m\u001b[0m\n",
            "\u001b[0;32m/usr/local/lib/python3.10/dist-packages/urllib3/connection.py\u001b[0m in \u001b[0;36m_new_conn\u001b[0;34m(self)\u001b[0m\n\u001b[1;32m    185\u001b[0m         \u001b[0;32mexcept\u001b[0m \u001b[0mSocketError\u001b[0m \u001b[0;32mas\u001b[0m \u001b[0me\u001b[0m\u001b[0;34m:\u001b[0m\u001b[0;34m\u001b[0m\u001b[0;34m\u001b[0m\u001b[0m\n\u001b[0;32m--> 186\u001b[0;31m             raise NewConnectionError(\n\u001b[0m\u001b[1;32m    187\u001b[0m                 \u001b[0mself\u001b[0m\u001b[0;34m,\u001b[0m \u001b[0;34m\"Failed to establish a new connection: %s\"\u001b[0m \u001b[0;34m%\u001b[0m \u001b[0me\u001b[0m\u001b[0;34m\u001b[0m\u001b[0;34m\u001b[0m\u001b[0m\n",
            "\u001b[0;31mNewConnectionError\u001b[0m: <urllib3.connection.HTTPSConnection object at 0x7f02917ec340>: Failed to establish a new connection: [Errno -2] Name or service not known",
            "\nDuring handling of the above exception, another exception occurred:\n",
            "\u001b[0;31mMaxRetryError\u001b[0m                             Traceback (most recent call last)",
            "\u001b[0;32m/usr/local/lib/python3.10/dist-packages/requests/adapters.py\u001b[0m in \u001b[0;36msend\u001b[0;34m(self, request, stream, timeout, verify, cert, proxies)\u001b[0m\n\u001b[1;32m    439\u001b[0m             \u001b[0;32mif\u001b[0m \u001b[0;32mnot\u001b[0m \u001b[0mchunked\u001b[0m\u001b[0;34m:\u001b[0m\u001b[0;34m\u001b[0m\u001b[0;34m\u001b[0m\u001b[0m\n\u001b[0;32m--> 440\u001b[0;31m                 resp = conn.urlopen(\n\u001b[0m\u001b[1;32m    441\u001b[0m                     \u001b[0mmethod\u001b[0m\u001b[0;34m=\u001b[0m\u001b[0mrequest\u001b[0m\u001b[0;34m.\u001b[0m\u001b[0mmethod\u001b[0m\u001b[0;34m,\u001b[0m\u001b[0;34m\u001b[0m\u001b[0;34m\u001b[0m\u001b[0m\n",
            "\u001b[0;32m/usr/local/lib/python3.10/dist-packages/urllib3/connectionpool.py\u001b[0m in \u001b[0;36murlopen\u001b[0;34m(self, method, url, body, headers, retries, redirect, assert_same_host, timeout, pool_timeout, release_conn, chunked, body_pos, **response_kw)\u001b[0m\n\u001b[1;32m    786\u001b[0m \u001b[0;34m\u001b[0m\u001b[0m\n\u001b[0;32m--> 787\u001b[0;31m             retries = retries.increment(\n\u001b[0m\u001b[1;32m    788\u001b[0m                 \u001b[0mmethod\u001b[0m\u001b[0;34m,\u001b[0m \u001b[0murl\u001b[0m\u001b[0;34m,\u001b[0m \u001b[0merror\u001b[0m\u001b[0;34m=\u001b[0m\u001b[0me\u001b[0m\u001b[0;34m,\u001b[0m \u001b[0m_pool\u001b[0m\u001b[0;34m=\u001b[0m\u001b[0mself\u001b[0m\u001b[0;34m,\u001b[0m \u001b[0m_stacktrace\u001b[0m\u001b[0;34m=\u001b[0m\u001b[0msys\u001b[0m\u001b[0;34m.\u001b[0m\u001b[0mexc_info\u001b[0m\u001b[0;34m(\u001b[0m\u001b[0;34m)\u001b[0m\u001b[0;34m[\u001b[0m\u001b[0;36m2\u001b[0m\u001b[0;34m]\u001b[0m\u001b[0;34m\u001b[0m\u001b[0;34m\u001b[0m\u001b[0m\n",
            "\u001b[0;32m/usr/local/lib/python3.10/dist-packages/urllib3/util/retry.py\u001b[0m in \u001b[0;36mincrement\u001b[0;34m(self, method, url, response, error, _pool, _stacktrace)\u001b[0m\n\u001b[1;32m    591\u001b[0m         \u001b[0;32mif\u001b[0m \u001b[0mnew_retry\u001b[0m\u001b[0;34m.\u001b[0m\u001b[0mis_exhausted\u001b[0m\u001b[0;34m(\u001b[0m\u001b[0;34m)\u001b[0m\u001b[0;34m:\u001b[0m\u001b[0;34m\u001b[0m\u001b[0;34m\u001b[0m\u001b[0m\n\u001b[0;32m--> 592\u001b[0;31m             \u001b[0;32mraise\u001b[0m \u001b[0mMaxRetryError\u001b[0m\u001b[0;34m(\u001b[0m\u001b[0m_pool\u001b[0m\u001b[0;34m,\u001b[0m \u001b[0murl\u001b[0m\u001b[0;34m,\u001b[0m \u001b[0merror\u001b[0m \u001b[0;32mor\u001b[0m \u001b[0mResponseError\u001b[0m\u001b[0;34m(\u001b[0m\u001b[0mcause\u001b[0m\u001b[0;34m)\u001b[0m\u001b[0;34m)\u001b[0m\u001b[0;34m\u001b[0m\u001b[0;34m\u001b[0m\u001b[0m\n\u001b[0m\u001b[1;32m    593\u001b[0m \u001b[0;34m\u001b[0m\u001b[0m\n",
            "\u001b[0;31mMaxRetryError\u001b[0m: HTTPSConnectionPool(host='torgap.ru', port=443): Max retries exceeded with url: /Files.zip (Caused by NewConnectionError('<urllib3.connection.HTTPSConnection object at 0x7f02917ec340>: Failed to establish a new connection: [Errno -2] Name or service not known'))",
            "\nDuring handling of the above exception, another exception occurred:\n",
            "\u001b[0;31mConnectionError\u001b[0m                           Traceback (most recent call last)",
            "\u001b[0;32m<ipython-input-4-58955c27481a>\u001b[0m in \u001b[0;36m<cell line: 1>\u001b[0;34m()\u001b[0m\n\u001b[0;32m----> 1\u001b[0;31m \u001b[0msymbol\u001b[0m\u001b[0;34m,\u001b[0m \u001b[0mdim\u001b[0m\u001b[0;34m,\u001b[0m \u001b[0mtimeframe\u001b[0m \u001b[0;34m=\u001b[0m \u001b[0mget_files\u001b[0m\u001b[0;34m(\u001b[0m\u001b[0;34m)\u001b[0m\u001b[0;34m\u001b[0m\u001b[0;34m\u001b[0m\u001b[0m\n\u001b[0m\u001b[1;32m      2\u001b[0m \u001b[0mx_train\u001b[0m\u001b[0;34m,\u001b[0m \u001b[0my_train\u001b[0m\u001b[0;34m,\u001b[0m \u001b[0msize_train\u001b[0m\u001b[0;34m,\u001b[0m \u001b[0mqtt_train\u001b[0m\u001b[0;34m,\u001b[0m \u001b[0mcndls_train\u001b[0m \u001b[0;34m=\u001b[0m \u001b[0mmake_data\u001b[0m\u001b[0;34m(\u001b[0m\u001b[0;34m\"train\"\u001b[0m\u001b[0;34m)\u001b[0m\u001b[0;34m\u001b[0m\u001b[0;34m\u001b[0m\u001b[0m\n\u001b[1;32m      3\u001b[0m \u001b[0mx_test\u001b[0m\u001b[0;34m,\u001b[0m \u001b[0my_test\u001b[0m\u001b[0;34m,\u001b[0m \u001b[0msize_test\u001b[0m\u001b[0;34m,\u001b[0m \u001b[0mqtt_test\u001b[0m\u001b[0;34m,\u001b[0m \u001b[0mcndls_test\u001b[0m \u001b[0;34m=\u001b[0m \u001b[0mmake_data\u001b[0m\u001b[0;34m(\u001b[0m\u001b[0;34m\"test\"\u001b[0m\u001b[0;34m)\u001b[0m\u001b[0;34m\u001b[0m\u001b[0;34m\u001b[0m\u001b[0m\n",
            "\u001b[0;32m<ipython-input-3-1157b467ba2e>\u001b[0m in \u001b[0;36mget_files\u001b[0;34m()\u001b[0m\n\u001b[1;32m     34\u001b[0m             \u001b[0mshutil\u001b[0m\u001b[0;34m.\u001b[0m\u001b[0mrmtree\u001b[0m\u001b[0;34m(\u001b[0m\u001b[0mfile_object_path\u001b[0m\u001b[0;34m)\u001b[0m\u001b[0;34m\u001b[0m\u001b[0;34m\u001b[0m\u001b[0m\n\u001b[1;32m     35\u001b[0m     \u001b[0mprint\u001b[0m\u001b[0;34m(\u001b[0m\u001b[0;34m\"⚠️️ Идет загрузка данных...\"\u001b[0m\u001b[0;34m)\u001b[0m\u001b[0;34m\u001b[0m\u001b[0;34m\u001b[0m\u001b[0m\n\u001b[0;32m---> 36\u001b[0;31m     \u001b[0mf\u001b[0m \u001b[0;34m=\u001b[0m \u001b[0mrequests\u001b[0m\u001b[0;34m.\u001b[0m\u001b[0mget\u001b[0m\u001b[0;34m(\u001b[0m\u001b[0;34m\"https://torgap.ru/Files.zip\"\u001b[0m\u001b[0;34m,\u001b[0m \u001b[0mallow_redirects\u001b[0m\u001b[0;34m=\u001b[0m\u001b[0;32mTrue\u001b[0m\u001b[0;34m)\u001b[0m\u001b[0;34m\u001b[0m\u001b[0;34m\u001b[0m\u001b[0m\n\u001b[0m\u001b[1;32m     37\u001b[0m     \u001b[0mopen\u001b[0m\u001b[0;34m(\u001b[0m\u001b[0;34m'Files.zip'\u001b[0m\u001b[0;34m,\u001b[0m \u001b[0;34m'wb'\u001b[0m\u001b[0;34m)\u001b[0m\u001b[0;34m.\u001b[0m\u001b[0mwrite\u001b[0m\u001b[0;34m(\u001b[0m\u001b[0mf\u001b[0m\u001b[0;34m.\u001b[0m\u001b[0mcontent\u001b[0m\u001b[0;34m)\u001b[0m\u001b[0;34m\u001b[0m\u001b[0;34m\u001b[0m\u001b[0m\n\u001b[1;32m     38\u001b[0m     \u001b[0;32mif\u001b[0m \u001b[0mos\u001b[0m\u001b[0;34m.\u001b[0m\u001b[0mpath\u001b[0m\u001b[0;34m.\u001b[0m\u001b[0mexists\u001b[0m\u001b[0;34m(\u001b[0m\u001b[0;34m\"Files.zip\"\u001b[0m\u001b[0;34m)\u001b[0m\u001b[0;34m:\u001b[0m\u001b[0;34m\u001b[0m\u001b[0;34m\u001b[0m\u001b[0m\n",
            "\u001b[0;32m/usr/local/lib/python3.10/dist-packages/requests/api.py\u001b[0m in \u001b[0;36mget\u001b[0;34m(url, params, **kwargs)\u001b[0m\n\u001b[1;32m     73\u001b[0m     \"\"\"\n\u001b[1;32m     74\u001b[0m \u001b[0;34m\u001b[0m\u001b[0m\n\u001b[0;32m---> 75\u001b[0;31m     \u001b[0;32mreturn\u001b[0m \u001b[0mrequest\u001b[0m\u001b[0;34m(\u001b[0m\u001b[0;34m'get'\u001b[0m\u001b[0;34m,\u001b[0m \u001b[0murl\u001b[0m\u001b[0;34m,\u001b[0m \u001b[0mparams\u001b[0m\u001b[0;34m=\u001b[0m\u001b[0mparams\u001b[0m\u001b[0;34m,\u001b[0m \u001b[0;34m**\u001b[0m\u001b[0mkwargs\u001b[0m\u001b[0;34m)\u001b[0m\u001b[0;34m\u001b[0m\u001b[0;34m\u001b[0m\u001b[0m\n\u001b[0m\u001b[1;32m     76\u001b[0m \u001b[0;34m\u001b[0m\u001b[0m\n\u001b[1;32m     77\u001b[0m \u001b[0;34m\u001b[0m\u001b[0m\n",
            "\u001b[0;32m/usr/local/lib/python3.10/dist-packages/requests/api.py\u001b[0m in \u001b[0;36mrequest\u001b[0;34m(method, url, **kwargs)\u001b[0m\n\u001b[1;32m     59\u001b[0m     \u001b[0;31m# cases, and look like a memory leak in others.\u001b[0m\u001b[0;34m\u001b[0m\u001b[0;34m\u001b[0m\u001b[0m\n\u001b[1;32m     60\u001b[0m     \u001b[0;32mwith\u001b[0m \u001b[0msessions\u001b[0m\u001b[0;34m.\u001b[0m\u001b[0mSession\u001b[0m\u001b[0;34m(\u001b[0m\u001b[0;34m)\u001b[0m \u001b[0;32mas\u001b[0m \u001b[0msession\u001b[0m\u001b[0;34m:\u001b[0m\u001b[0;34m\u001b[0m\u001b[0;34m\u001b[0m\u001b[0m\n\u001b[0;32m---> 61\u001b[0;31m         \u001b[0;32mreturn\u001b[0m \u001b[0msession\u001b[0m\u001b[0;34m.\u001b[0m\u001b[0mrequest\u001b[0m\u001b[0;34m(\u001b[0m\u001b[0mmethod\u001b[0m\u001b[0;34m=\u001b[0m\u001b[0mmethod\u001b[0m\u001b[0;34m,\u001b[0m \u001b[0murl\u001b[0m\u001b[0;34m=\u001b[0m\u001b[0murl\u001b[0m\u001b[0;34m,\u001b[0m \u001b[0;34m**\u001b[0m\u001b[0mkwargs\u001b[0m\u001b[0;34m)\u001b[0m\u001b[0;34m\u001b[0m\u001b[0;34m\u001b[0m\u001b[0m\n\u001b[0m\u001b[1;32m     62\u001b[0m \u001b[0;34m\u001b[0m\u001b[0m\n\u001b[1;32m     63\u001b[0m \u001b[0;34m\u001b[0m\u001b[0m\n",
            "\u001b[0;32m/usr/local/lib/python3.10/dist-packages/requests/sessions.py\u001b[0m in \u001b[0;36mrequest\u001b[0;34m(self, method, url, params, data, headers, cookies, files, auth, timeout, allow_redirects, proxies, hooks, stream, verify, cert, json)\u001b[0m\n\u001b[1;32m    527\u001b[0m         }\n\u001b[1;32m    528\u001b[0m         \u001b[0msend_kwargs\u001b[0m\u001b[0;34m.\u001b[0m\u001b[0mupdate\u001b[0m\u001b[0;34m(\u001b[0m\u001b[0msettings\u001b[0m\u001b[0;34m)\u001b[0m\u001b[0;34m\u001b[0m\u001b[0;34m\u001b[0m\u001b[0m\n\u001b[0;32m--> 529\u001b[0;31m         \u001b[0mresp\u001b[0m \u001b[0;34m=\u001b[0m \u001b[0mself\u001b[0m\u001b[0;34m.\u001b[0m\u001b[0msend\u001b[0m\u001b[0;34m(\u001b[0m\u001b[0mprep\u001b[0m\u001b[0;34m,\u001b[0m \u001b[0;34m**\u001b[0m\u001b[0msend_kwargs\u001b[0m\u001b[0;34m)\u001b[0m\u001b[0;34m\u001b[0m\u001b[0;34m\u001b[0m\u001b[0m\n\u001b[0m\u001b[1;32m    530\u001b[0m \u001b[0;34m\u001b[0m\u001b[0m\n\u001b[1;32m    531\u001b[0m         \u001b[0;32mreturn\u001b[0m \u001b[0mresp\u001b[0m\u001b[0;34m\u001b[0m\u001b[0;34m\u001b[0m\u001b[0m\n",
            "\u001b[0;32m/usr/local/lib/python3.10/dist-packages/requests/sessions.py\u001b[0m in \u001b[0;36msend\u001b[0;34m(self, request, **kwargs)\u001b[0m\n\u001b[1;32m    643\u001b[0m \u001b[0;34m\u001b[0m\u001b[0m\n\u001b[1;32m    644\u001b[0m         \u001b[0;31m# Send the request\u001b[0m\u001b[0;34m\u001b[0m\u001b[0;34m\u001b[0m\u001b[0m\n\u001b[0;32m--> 645\u001b[0;31m         \u001b[0mr\u001b[0m \u001b[0;34m=\u001b[0m \u001b[0madapter\u001b[0m\u001b[0;34m.\u001b[0m\u001b[0msend\u001b[0m\u001b[0;34m(\u001b[0m\u001b[0mrequest\u001b[0m\u001b[0;34m,\u001b[0m \u001b[0;34m**\u001b[0m\u001b[0mkwargs\u001b[0m\u001b[0;34m)\u001b[0m\u001b[0;34m\u001b[0m\u001b[0;34m\u001b[0m\u001b[0m\n\u001b[0m\u001b[1;32m    646\u001b[0m \u001b[0;34m\u001b[0m\u001b[0m\n\u001b[1;32m    647\u001b[0m         \u001b[0;31m# Total elapsed time of the request (approximately)\u001b[0m\u001b[0;34m\u001b[0m\u001b[0;34m\u001b[0m\u001b[0m\n",
            "\u001b[0;32m/usr/local/lib/python3.10/dist-packages/requests/adapters.py\u001b[0m in \u001b[0;36msend\u001b[0;34m(self, request, stream, timeout, verify, cert, proxies)\u001b[0m\n\u001b[1;32m    517\u001b[0m                 \u001b[0;32mraise\u001b[0m \u001b[0mSSLError\u001b[0m\u001b[0;34m(\u001b[0m\u001b[0me\u001b[0m\u001b[0;34m,\u001b[0m \u001b[0mrequest\u001b[0m\u001b[0;34m=\u001b[0m\u001b[0mrequest\u001b[0m\u001b[0;34m)\u001b[0m\u001b[0;34m\u001b[0m\u001b[0;34m\u001b[0m\u001b[0m\n\u001b[1;32m    518\u001b[0m \u001b[0;34m\u001b[0m\u001b[0m\n\u001b[0;32m--> 519\u001b[0;31m             \u001b[0;32mraise\u001b[0m \u001b[0mConnectionError\u001b[0m\u001b[0;34m(\u001b[0m\u001b[0me\u001b[0m\u001b[0;34m,\u001b[0m \u001b[0mrequest\u001b[0m\u001b[0;34m=\u001b[0m\u001b[0mrequest\u001b[0m\u001b[0;34m)\u001b[0m\u001b[0;34m\u001b[0m\u001b[0;34m\u001b[0m\u001b[0m\n\u001b[0m\u001b[1;32m    520\u001b[0m \u001b[0;34m\u001b[0m\u001b[0m\n\u001b[1;32m    521\u001b[0m         \u001b[0;32mexcept\u001b[0m \u001b[0mClosedPoolError\u001b[0m \u001b[0;32mas\u001b[0m \u001b[0me\u001b[0m\u001b[0;34m:\u001b[0m\u001b[0;34m\u001b[0m\u001b[0;34m\u001b[0m\u001b[0m\n",
            "\u001b[0;31mConnectionError\u001b[0m: HTTPSConnectionPool(host='torgap.ru', port=443): Max retries exceeded with url: /Files.zip (Caused by NewConnectionError('<urllib3.connection.HTTPSConnection object at 0x7f02917ec340>: Failed to establish a new connection: [Errno -2] Name or service not known'))"
          ]
        }
      ]
    },
    {
      "cell_type": "markdown",
      "metadata": {
        "id": "dC0bk_Jy5KTq"
      },
      "source": [
        "#3. ОБУЧЕНИЕ И ТЕСТИРОВАНИЕ МОДЕЛИ\n",
        "💡 Этот шаг и следующие можно повторять без предыдущих шагов."
      ]
    },
    {
      "cell_type": "code",
      "metadata": {
        "id": "dcc0X3GFW3VH"
      },
      "source": [
        "epoch = 10 # количество эпох\n",
        "act = \"tanh\" # функция активации (\"relu\" или \"tanh\")\n",
        "dropout = 0.2 # от 0 до 0.5\n",
        "\n",
        "j = 5 # количество проходов\n",
        "n_lim = 60 # минимальный допустимый процент правильных ответов при тестировании\n",
        "for i in range(0, j):\n",
        "    print(\"Проход\", i+1, \"из\", j)\n",
        "    model = fit_model() # обучение\n",
        "    best_lim, best_res, results = test_result(model, x_test) # тестирование\n",
        "    if best_res >= n_lim: break    \n",
        "    clear_output(wait=True)"
      ],
      "execution_count": null,
      "outputs": []
    },
    {
      "cell_type": "markdown",
      "metadata": {
        "id": "AgTRNswjghus"
      },
      "source": [
        "# 4. РЕЗУЛЬТАТЫ НА ТОРГОВОМ ГРАФИКЕ (все на одном)"
      ]
    },
    {
      "cell_type": "code",
      "metadata": {
        "id": "SPOwNgO8hTtI"
      },
      "source": [
        "# КРАСНАЯ точка - прогноз вниз, ЗЕЛЕНАЯ - прогноз вверх.\n",
        "plot_res()"
      ],
      "execution_count": null,
      "outputs": []
    },
    {
      "cell_type": "markdown",
      "metadata": {
        "id": "JN_2vfP65oL8"
      },
      "source": [
        "# 5. РЕЗУЛЬТАТЫ НА ТОРГОВОМ ГРАФИКЕ (детально)"
      ]
    },
    {
      "cell_type": "code",
      "metadata": {
        "id": "zShdm3pe4uz8"
      },
      "source": [
        "# 1500 свечей на один график\n",
        "plot_res(1500)"
      ],
      "execution_count": null,
      "outputs": []
    },
    {
      "cell_type": "markdown",
      "metadata": {
        "id": "2MT_Ds5kNeLF"
      },
      "source": [
        "# 6. ПРОВЕРКА МОДЕЛИ НА РЕАЛЬНОМ РЫНКЕ\n",
        "💡 Модель будет протестирована на данных о послених свечах на реальном рынке (до 1000 свечей)\n",
        "\n",
        "⚠️ Проверка реальным рынком может не работать в связи с тем, что не всегда запущен сервер обслуживающий этот сервис. Если не работает попробуйте зайти позже."
      ]
    },
    {
      "cell_type": "code",
      "metadata": {
        "id": "yxdkjKbNNxxW"
      },
      "source": [
        "lim = best_lim # тут менять best_lim если сигналов нет\n",
        "get_from_ennro(symbol, timeframe, dim, lim)"
      ],
      "execution_count": null,
      "outputs": []
    }
  ]
}